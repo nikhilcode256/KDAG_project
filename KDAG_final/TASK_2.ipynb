{
 "cells": [
  {
   "cell_type": "code",
   "execution_count": 2,
   "id": "71b40397-4275-420a-b569-18a4d962a81a",
   "metadata": {},
   "outputs": [],
   "source": [
    "import numpy as np\n",
    "import pandas as pd\n",
    "import matplotlib.pyplot as plt\n",
    "import seaborn as sns"
   ]
  },
  {
   "cell_type": "markdown",
   "id": "716b9334-c517-4d4b-a7af-1a57f128b408",
   "metadata": {},
   "source": [
    "I did think using tf-idf or Bow wouldn't be a good choice for clustering as it would not caputure the main essence of each instrument/mood of the song/style of the song rather they would just treat them as three usual words.\n",
    "\n",
    "But I didn't find much luck and got to know I was wrong.\n",
    "\n",
    "Even after doing a bit Feature Engineering and adding a few more columns from existing columns my metrics didn't improve much."
   ]
  },
  {
   "cell_type": "code",
   "execution_count": 4,
   "id": "f6fa3442-5da9-498c-a0ca-aef01f4803cb",
   "metadata": {},
   "outputs": [],
   "source": [
    "df=pd.read_csv(\"TASK2_dataset.csv\")\n",
    "df = df.rename(columns={'keyword_1': 'instrument', 'keyword_2': 'mood','keyword_3':'style'})"
   ]
  },
  {
   "cell_type": "code",
   "execution_count": 5,
   "id": "3fd74fde-1400-486c-8dd6-9d7188ec26c4",
   "metadata": {},
   "outputs": [
    {
     "data": {
      "text/html": [
       "<div>\n",
       "<style scoped>\n",
       "    .dataframe tbody tr th:only-of-type {\n",
       "        vertical-align: middle;\n",
       "    }\n",
       "\n",
       "    .dataframe tbody tr th {\n",
       "        vertical-align: top;\n",
       "    }\n",
       "\n",
       "    .dataframe thead th {\n",
       "        text-align: right;\n",
       "    }\n",
       "</style>\n",
       "<table border=\"1\" class=\"dataframe\">\n",
       "  <thead>\n",
       "    <tr style=\"text-align: right;\">\n",
       "      <th></th>\n",
       "      <th>song_id</th>\n",
       "      <th>instrument</th>\n",
       "      <th>mood</th>\n",
       "      <th>style</th>\n",
       "      <th>genre</th>\n",
       "    </tr>\n",
       "  </thead>\n",
       "  <tbody>\n",
       "    <tr>\n",
       "      <th>0</th>\n",
       "      <td>74</td>\n",
       "      <td>guitar</td>\n",
       "      <td>happy</td>\n",
       "      <td>distorted</td>\n",
       "      <td>rock</td>\n",
       "    </tr>\n",
       "    <tr>\n",
       "      <th>1</th>\n",
       "      <td>103</td>\n",
       "      <td>brass</td>\n",
       "      <td>energetic</td>\n",
       "      <td>melodic</td>\n",
       "      <td>classical</td>\n",
       "    </tr>\n",
       "    <tr>\n",
       "      <th>2</th>\n",
       "      <td>201</td>\n",
       "      <td>banjo</td>\n",
       "      <td>happy</td>\n",
       "      <td>acoustic</td>\n",
       "      <td>country</td>\n",
       "    </tr>\n",
       "    <tr>\n",
       "      <th>3</th>\n",
       "      <td>194</td>\n",
       "      <td>synth</td>\n",
       "      <td>energetic</td>\n",
       "      <td>heavy</td>\n",
       "      <td>hip-hop</td>\n",
       "    </tr>\n",
       "    <tr>\n",
       "      <th>4</th>\n",
       "      <td>184</td>\n",
       "      <td>synth</td>\n",
       "      <td>energetic</td>\n",
       "      <td>slow</td>\n",
       "      <td>hip-hop</td>\n",
       "    </tr>\n",
       "    <tr>\n",
       "      <th>...</th>\n",
       "      <td>...</td>\n",
       "      <td>...</td>\n",
       "      <td>...</td>\n",
       "      <td>...</td>\n",
       "      <td>...</td>\n",
       "    </tr>\n",
       "    <tr>\n",
       "      <th>142</th>\n",
       "      <td>195</td>\n",
       "      <td>synth</td>\n",
       "      <td>angry</td>\n",
       "      <td>melodic</td>\n",
       "      <td>hip-hop</td>\n",
       "    </tr>\n",
       "    <tr>\n",
       "      <th>143</th>\n",
       "      <td>7</td>\n",
       "      <td>guitar</td>\n",
       "      <td>energetic</td>\n",
       "      <td>fast</td>\n",
       "      <td>pop</td>\n",
       "    </tr>\n",
       "    <tr>\n",
       "      <th>144</th>\n",
       "      <td>14</td>\n",
       "      <td>guitar</td>\n",
       "      <td>happy</td>\n",
       "      <td>rhythmic</td>\n",
       "      <td>pop</td>\n",
       "    </tr>\n",
       "    <tr>\n",
       "      <th>145</th>\n",
       "      <td>36</td>\n",
       "      <td>synth</td>\n",
       "      <td>mellow</td>\n",
       "      <td>danceable</td>\n",
       "      <td>pop</td>\n",
       "    </tr>\n",
       "    <tr>\n",
       "      <th>146</th>\n",
       "      <td>29</td>\n",
       "      <td>synth</td>\n",
       "      <td>emotional</td>\n",
       "      <td>slow</td>\n",
       "      <td>pop</td>\n",
       "    </tr>\n",
       "  </tbody>\n",
       "</table>\n",
       "<p>147 rows × 5 columns</p>\n",
       "</div>"
      ],
      "text/plain": [
       "     song_id instrument       mood      style      genre\n",
       "0         74     guitar      happy  distorted       rock\n",
       "1        103      brass  energetic    melodic  classical\n",
       "2        201      banjo      happy   acoustic    country\n",
       "3        194      synth  energetic      heavy    hip-hop\n",
       "4        184      synth  energetic       slow    hip-hop\n",
       "..       ...        ...        ...        ...        ...\n",
       "142      195      synth      angry    melodic    hip-hop\n",
       "143        7     guitar  energetic       fast        pop\n",
       "144       14     guitar      happy   rhythmic        pop\n",
       "145       36      synth     mellow  danceable        pop\n",
       "146       29      synth  emotional       slow        pop\n",
       "\n",
       "[147 rows x 5 columns]"
      ]
     },
     "execution_count": 5,
     "metadata": {},
     "output_type": "execute_result"
    }
   ],
   "source": [
    "df"
   ]
  },
  {
   "cell_type": "markdown",
   "id": "c04da55c-097b-418a-b5a3-a9afd124ada0",
   "metadata": {},
   "source": [
    "Firstly let me define the functions required in this task\n",
    "\n",
    "kMeans Clustering\n",
    "It randomly finds k elements and assigns them clusters.\n",
    "then all elements are assigned to a cluster based on nearest distance.\n",
    "Now center of each cluster is calculated called centroid,now again all elements are assigned to a cluster near to each centroid."
   ]
  },
  {
   "cell_type": "code",
   "execution_count": 7,
   "id": "9bfd51dd-6f02-4bf3-989b-2d37eb086baf",
   "metadata": {},
   "outputs": [],
   "source": [
    "def kmeans(data, n_clusters):\n",
    "    np.random.seed(42)\n",
    "\n",
    "    n_samples, n_features = data.shape\n",
    "\n",
    "    min_vals = np.min(data, axis=0)\n",
    "    max_vals = np.max(data, axis=0)\n",
    "    centroids = np.random.uniform(low=min_vals, high=max_vals, size=(n_clusters, n_features))\n",
    "\n",
    "    labels = np.zeros(n_samples, dtype=int)\n",
    "\n",
    "    for _ in range(300):\n",
    "        distances = np.linalg.norm(data[:, np.newaxis] - centroids, axis=2) \n",
    "        new_labels = np.argmin(distances, axis=1)\n",
    "\n",
    "        if np.array_equal(new_labels, labels):\n",
    "            break\n",
    "\n",
    "        labels = new_labels\n",
    "\n",
    "        for j in range(n_clusters):\n",
    "            cluster_points = data[labels == j]\n",
    "            if len(cluster_points) > 0: \n",
    "                centroids[j] = np.mean(cluster_points, axis=0)\n",
    "\n",
    "    return labels, centroids"
   ]
  },
  {
   "cell_type": "markdown",
   "id": "7c0b3cdf-393e-4c28-9131-4bd35cc49f39",
   "metadata": {},
   "source": [
    "PCA (Principal Componenet Analysis) \n",
    "\n",
    "Firstly the data is standardised by using a scaling algorithm called standard scaler \n",
    "= (x - mean) / standard_deviation\n",
    "\n",
    "Then a covariance matrix is calculated which tells you the relationships between different variables.\n",
    "Next eigenvectors and eigenvalues are calculated eigenvectors represent the direction of maximum variance while the eigenvalues represent the amount of eigenvectors.Then the imaginary parts of eigenvectorsa nd eigenvalues are discarded.Next the eigenvectors i.e. principal componenets are arranged in a descending order by eigenvalues.Then the number of principal components which are needed to be kept are kept descending order wise.Further explained variance ratio is calculated which tells you that how much variance in the data is given by each principal component."
   ]
  },
  {
   "cell_type": "code",
   "execution_count": 9,
   "id": "34afbf74-beac-4142-8dc2-4f3468918415",
   "metadata": {},
   "outputs": [],
   "source": [
    "def pca(data, n_comp):\n",
    "    data = data.values\n",
    "\n",
    "    mean = np.mean(data, axis=0)\n",
    "    std = np.std(data, axis=0)\n",
    "    data = (data - mean) / std\n",
    "\n",
    "    covariance_matrix = np.cov(data, rowvar=False)\n",
    "\n",
    "    eigenvalues, eigenvectors = np.linalg.eig(covariance_matrix)\n",
    "\n",
    "    eigenvalues = np.real(eigenvalues)\n",
    "    eigenvectors = np.real(eigenvectors)\n",
    "\n",
    "    sorted_indices = np.argsort(eigenvalues)[::-1]\n",
    "    eigenvalues = eigenvalues[sorted_indices]\n",
    "    eigenvectors = eigenvectors[:, sorted_indices]\n",
    "\n",
    "    eigenvectors = eigenvectors[:, :n_comp]\n",
    "    pca_data = np.dot(data, eigenvectors)\n",
    "\n",
    "    explained_variance_ratio = eigenvalues / np.sum(eigenvalues)\n",
    "    return pca_data, explained_variance_ratio"
   ]
  },
  {
   "cell_type": "markdown",
   "id": "b821a9bf-80f1-46fe-8e58-aeaa28b7da85",
   "metadata": {},
   "source": [
    "Silhouette Score is calculated in this function,X conatains all the features.next a_i and b_i are calculated.\n",
    "\n",
    "a_i denotes the average distance between data point and all other points in the same cluster.b_i denotes the average distance between the data point and all other points in the nearest other cluster.then s_i Silhouette Score is calculated (b_i - a_i) / max(a_i, b_i)."
   ]
  },
  {
   "cell_type": "code",
   "execution_count": 11,
   "id": "8f2979e3-1d4a-453e-b6af-b94a141fe088",
   "metadata": {},
   "outputs": [],
   "source": [
    "def silhouette_score(X, labels):\n",
    "    X = np.asarray(X)\n",
    "    labels = np.asarray(labels)\n",
    "    n_samples = len(X)\n",
    "    n_clusters = len(np.unique(labels))\n",
    "\n",
    "    silhouette_scores = []\n",
    "\n",
    "    for i in range(n_samples):\n",
    "        a_i = 0 \n",
    "        b_i = np.inf  \n",
    "\n",
    "        cluster_i = labels[i]\n",
    "\n",
    "        cluster_i_indices = np.where(labels == cluster_i)[0]\n",
    "        if len(cluster_i_indices) > 1:\n",
    "          distances_i_cluster = np.linalg.norm(X[i] - X[cluster_i_indices], axis=1)\n",
    "          a_i = np.mean(distances_i_cluster[cluster_i_indices!=i]) \n",
    "\n",
    "        for j in range(n_clusters):\n",
    "            if j != cluster_i:\n",
    "                cluster_j_indices = np.where(labels == j)[0]\n",
    "                distances_i_cluster_j = np.linalg.norm(X[i] - X[cluster_j_indices], axis=1)\n",
    "                b_i = min(b_i, np.mean(distances_i_cluster_j))\n",
    "\n",
    "        if b_i == np.inf:\n",
    "          s_i = 0\n",
    "        else:\n",
    "          s_i = (b_i - a_i) / max(a_i, b_i)\n",
    "\n",
    "        silhouette_scores.append(s_i)\n",
    "\n",
    "    return np.mean(silhouette_scores)"
   ]
  },
  {
   "cell_type": "markdown",
   "id": "8ce55098-c11c-4983-b9aa-6dbb0fe76316",
   "metadata": {},
   "source": [
    "Here firstly the comb function calculates the combination n!/(n-r)!r!\n",
    "\n",
    "Now in ARI function firstly the labels are converted into numpy arrays.Then a contingency table is created which represents the relationships between the true and predicted labels,the rows and columns each represent one of the two types of labels while the cells represent the frequencies of observations that fall into the intersection between the row and column.now a and d are calculated a represents the number of pairs of samples that are in the same cluster in both the predicted and the true label whereas d represents the number of pairs of samples that are in different clusters in both the true  and predicted label.Now the Rand Index is calculated\n",
    "\n",
    "ri = (a + d) / comb(n, 2) if comb(n,2) != 0 else 0\n",
    "\n",
    "now the expected rand index is calculated if the clusterings were random \n",
    "\n",
    "expected_ri = (contingency_table.sum(axis=0) @ contingency_table.sum(axis=1)) / comb(n, 2)**2 if comb(n,2) != 0 else 0\n",
    "\n",
    "now the adjusted rand index is calculated \n",
    "ari = (ri - expected_ri) / (1 - expected_ri) if (1-expected_ri) !=0 else 0"
   ]
  },
  {
   "cell_type": "code",
   "execution_count": 13,
   "id": "f95f6dc1-7b3b-4cf6-942d-bb986bc0c888",
   "metadata": {},
   "outputs": [],
   "source": [
    "def comb(n, k):\n",
    "    if k == 0 or k == n:\n",
    "        return 1\n",
    "    result = 1\n",
    "    for i in range(1, k + 1):\n",
    "        result = result * (n - i + 1) // i  \n",
    "    return result\n",
    "\n",
    "def adjusted_rand_index(labels_true, labels_pred):\n",
    "    labels_true = np.asarray(labels_true)\n",
    "    labels_pred = np.asarray(labels_pred)\n",
    "\n",
    "    n_samples = len(labels_true)\n",
    "\n",
    "    contingency_table = pd.crosstab(labels_true, labels_pred)\n",
    "    a = 0\n",
    "    d = 0\n",
    "    for i in range(len(contingency_table.index)):\n",
    "        for j in range(len(contingency_table.columns)):\n",
    "            nij = contingency_table.iloc[i, j]\n",
    "            a += comb(nij, 2) if nij >=2 else 0 \n",
    "    \n",
    "    for i in range(len(contingency_table.index)):\n",
    "        ai = contingency_table.iloc[i,:].sum()\n",
    "        d += comb(ai, 2) if ai >=2 else 0\n",
    "    d -= a\n",
    "\n",
    "    for j in range(len(contingency_table.columns)):\n",
    "        bj = contingency_table.iloc[:,j].sum()\n",
    "        d += comb(bj, 2) if bj >=2 else 0\n",
    "    d -= a\n",
    "\n",
    "    n = n_samples\n",
    "    ri = (a + d) / comb(n, 2) if comb(n,2) != 0 else 0\n",
    "    expected_ri = (contingency_table.sum(axis=0) @ contingency_table.sum(axis=1)) / comb(n, 2)**2 if comb(n,2) != 0 else 0 \n",
    "    ari = (ri - expected_ri) / (1 - expected_ri) if (1-expected_ri) !=0 else 0\n",
    "\n",
    "    return ari"
   ]
  },
  {
   "cell_type": "markdown",
   "id": "02211283-3dc5-4d6f-b1c2-f6a89d53f595",
   "metadata": {},
   "source": [
    "BOW(Bag of Words) is technique in which all the unique keywords here in this dataframe are put as columns in a dataframe and each song as each row where the number in each column denotes how many times the word is there for each song."
   ]
  },
  {
   "cell_type": "code",
   "execution_count": 15,
   "id": "9ad9339d-2aa7-48e6-91db-913d4397a75b",
   "metadata": {},
   "outputs": [],
   "source": [
    "def Bow(df):\n",
    "    all_words = []\n",
    "    for text in df[\"combined\"]:\n",
    "        words = text.split()\n",
    "        all_words.extend(words)\n",
    "\n",
    "    vocab = sorted(list(set(all_words)))\n",
    "\n",
    "    dtm = pd.DataFrame(0, index=range(len(df)), columns=vocab)\n",
    "\n",
    "    for i, text in df[\"combined\"].items():\n",
    "        words = text.split()\n",
    "        for word in words:\n",
    "            dtm.loc[i, word] += 1\n",
    "\n",
    "    return dtm"
   ]
  },
  {
   "cell_type": "markdown",
   "id": "04ebf406-3df6-43b7-ba9c-fdabd02517c1",
   "metadata": {},
   "source": [
    "TfIdf(Term frequency Inverse Document Frequency) vectorizer also plots a dataframe similar to bag of words but applies a function on it.\n",
    "\n",
    "TF=(total terms present in doc/total tokens in doc)\n",
    "IDF=log(Total docs/number of docs term t is present in)\n",
    "\n",
    "function is Tf*Idf"
   ]
  },
  {
   "cell_type": "code",
   "execution_count": 17,
   "id": "3eb6914c-4304-446f-8e5e-39919ee53a9f",
   "metadata": {},
   "outputs": [],
   "source": [
    "def tfidf(df):\n",
    "    dtm = Bow(df)\n",
    "    vocab = dtm.columns.tolist()\n",
    "\n",
    "    tf = dtm / 3\n",
    "\n",
    "    freq = (dtm > 0).sum(axis=0)\n",
    "    idf = np.log(len(df) / freq)  \n",
    "\n",
    "    tfidf_matrix = tf * idf\n",
    "    tfidf_df = pd.DataFrame(tfidf_matrix, index=dtm.index, columns=vocab)\n",
    "    return tfidf_df"
   ]
  },
  {
   "cell_type": "markdown",
   "id": "a99c113c-4add-4fb0-9461-ab40a0c98fad",
   "metadata": {},
   "source": [
    "I am now using BOW to vectorize words"
   ]
  },
  {
   "cell_type": "code",
   "execution_count": 19,
   "id": "d01c032b-8b84-4d93-bc3b-17853d567594",
   "metadata": {},
   "outputs": [],
   "source": [
    "df['combined'] = df['mood'] + ' ' + df['style'] + ' ' + df['instrument']\n",
    "dtm1=Bow(df)\n",
    "dtm1\n",
    "columns1=dtm1.columns"
   ]
  },
  {
   "cell_type": "code",
   "execution_count": 20,
   "id": "5ac4d33e-c12a-4bd4-b727-c8525080e884",
   "metadata": {},
   "outputs": [
    {
     "data": {
      "image/png": "[encoded data removed]",
      "text/plain": [
       "<Figure size 1200x600 with 1 Axes>"
      ]
     },
     "metadata": {},
     "output_type": "display_data"
    }
   ],
   "source": [
    "dtm1,var1=pca(dtm1,n_comp=2)\n",
    "\n",
    "n_components_plotted = len(var1)\n",
    "\n",
    "plt.figure(figsize=(12, 6))\n",
    "plt.bar(columns1,var1*100)\n",
    "plt.xlabel(\"Words\")\n",
    "plt.ylabel(\"Explained Variance Ratio\")\n",
    "plt.title(\"Explained Variance Ratio per word\")\n",
    "plt.xticks(rotation=90) \n",
    "plt.ylim(0, 10) \n",
    "plt.show()"
   ]
  },
  {
   "cell_type": "code",
   "execution_count": 21,
   "id": "5c065ad7-cc33-4bbb-8304-0cbe31df2fe8",
   "metadata": {},
   "outputs": [
    {
     "data": {
      "image/png": "[encoded data removed]",
      "text/plain": [
       "<Figure size 800x600 with 1 Axes>"
      ]
     },
     "metadata": {},
     "output_type": "display_data"
    }
   ],
   "source": [
    "inertia_values = []\n",
    "\n",
    "for k in range(1, 11): \n",
    "    labels, centr1 = kmeans(dtm1, k) \n",
    "    distances = np.linalg.norm(dtm1[:, np.newaxis] - centr1, axis=2)\n",
    "    min_distances = np.min(distances, axis=1)\n",
    "    inertia = np.sum(min_distances**2)\n",
    "    inertia_values.append(inertia)\n",
    "\n",
    "plt.figure(figsize=(8, 6))\n",
    "plt.plot(range(1, 11), inertia_values)\n",
    "plt.xlabel(\"Number of Clusters (k)\")\n",
    "plt.ylabel(\"Inertia\")\n",
    "plt.title(\"Elbow Method for Optimal k\")\n",
    "plt.xticks(range(1, 11)) \n",
    "plt.show()"
   ]
  },
  {
   "cell_type": "markdown",
   "id": "5f4d89d8-ef7e-4fc2-82ae-3617a57cc092",
   "metadata": {},
   "source": [
    "From the above graph we can see that the best number of clusters is 3"
   ]
  },
  {
   "cell_type": "code",
   "execution_count": 23,
   "id": "e584b19a-25d8-4e30-b779-1c20d13cdfd7",
   "metadata": {},
   "outputs": [],
   "source": [
    "dtm_pca1,centr1=kmeans(dtm1,5)"
   ]
  },
  {
   "cell_type": "code",
   "execution_count": 24,
   "id": "7dda33e0-1331-4571-9c26-113bd0092823",
   "metadata": {},
   "outputs": [
    {
     "data": {
      "text/plain": [
       "0.39024785740910006"
      ]
     },
     "execution_count": 24,
     "metadata": {},
     "output_type": "execute_result"
    }
   ],
   "source": [
    "df[\"genre_numerical\"], _ = pd.factorize(df[\"genre\"])\n",
    "adjusted_rand_index1=adjusted_rand_index(dtm_pca1,df[\"genre_numerical\"])\n",
    "adjusted_rand_index1"
   ]
  },
  {
   "cell_type": "code",
   "execution_count": 25,
   "id": "034c2fe9-556b-4490-a9f9-30d51fd5725b",
   "metadata": {},
   "outputs": [
    {
     "data": {
      "text/plain": [
       "0.4785827895891898"
      ]
     },
     "execution_count": 25,
     "metadata": {},
     "output_type": "execute_result"
    }
   ],
   "source": [
    "silhouette_score1=silhouette_score(dtm1,dtm_pca1)\n",
    "silhouette_score1"
   ]
  },
  {
   "cell_type": "markdown",
   "id": "7032294e-d2af-46d2-b540-9a38f40cfb98",
   "metadata": {},
   "source": [
    "I am now using tfidf vectorizer to vectorize words"
   ]
  },
  {
   "cell_type": "code",
   "execution_count": 27,
   "id": "4b400645-269d-41af-a80a-6738278e2323",
   "metadata": {},
   "outputs": [],
   "source": [
    "dtm2=tfidf(df)\n",
    "dtm2\n",
    "columns2=dtm2.columns"
   ]
  },
  {
   "cell_type": "code",
   "execution_count": 28,
   "id": "73673fd1-0a6b-4d6b-b3fd-037de4bfb6a9",
   "metadata": {},
   "outputs": [
    {
     "data": {
      "image/png": "[encoded data removed]",
      "text/plain": [
       "<Figure size 1200x600 with 1 Axes>"
      ]
     },
     "metadata": {},
     "output_type": "display_data"
    }
   ],
   "source": [
    "dtm2,var2=pca(dtm2,n_comp=2)\n",
    "\n",
    "n_components_plotted = len(var2)\n",
    "\n",
    "plt.figure(figsize=(12, 6))\n",
    "plt.bar(columns2,var2*100)\n",
    "plt.xlabel(\"Words\")\n",
    "plt.ylabel(\"Explained Variance Ratio\")\n",
    "plt.title(\"Explained Variance Ratio per word\")\n",
    "plt.xticks(rotation=90) \n",
    "plt.ylim(0, 10) \n",
    "plt.show()"
   ]
  },
  {
   "cell_type": "code",
   "execution_count": 29,
   "id": "1da19618-5c3a-4f11-9d6b-a568f55d2e2d",
   "metadata": {},
   "outputs": [
    {
     "data": {
      "image/png": "[encoded data removed]",
      "text/plain": [
       "<Figure size 800x600 with 1 Axes>"
      ]
     },
     "metadata": {},
     "output_type": "display_data"
    }
   ],
   "source": [
    "inertia_values = []\n",
    "\n",
    "for k in range(1, 11): \n",
    "    labels, centr2 = kmeans(dtm2, k) \n",
    "    distances = np.linalg.norm(dtm2[:, np.newaxis] - centr2, axis=2)\n",
    "    min_distances = np.min(distances, axis=1)\n",
    "    inertia = np.sum(min_distances**2)\n",
    "    inertia_values.append(inertia)\n",
    "\n",
    "plt.figure(figsize=(8, 6))\n",
    "plt.plot(range(1, 11), inertia_values)\n",
    "plt.xlabel(\"Number of Clusters (k)\")\n",
    "plt.ylabel(\"Inertia\")\n",
    "plt.title(\"Elbow Method for Optimal k\")\n",
    "plt.xticks(range(1, 11)) \n",
    "plt.show()"
   ]
  },
  {
   "cell_type": "markdown",
   "id": "c46ae1cb-6910-4737-9fb5-3bb24ab8f2df",
   "metadata": {},
   "source": [
    "From the above graph we can see that the best number of clusters is 3"
   ]
  },
  {
   "cell_type": "code",
   "execution_count": 31,
   "id": "14a60071-cbde-4695-ae87-dc1909ac92a0",
   "metadata": {},
   "outputs": [],
   "source": [
    "dtm_pca2,centr2=kmeans(dtm2,5)"
   ]
  },
  {
   "cell_type": "code",
   "execution_count": 32,
   "id": "f1f8cd05-e4a8-4450-a943-de1e16d5e8d9",
   "metadata": {},
   "outputs": [
    {
     "data": {
      "text/plain": [
       "0.39024785740910006"
      ]
     },
     "execution_count": 32,
     "metadata": {},
     "output_type": "execute_result"
    }
   ],
   "source": [
    "adjusted_rand_index2=adjusted_rand_index(dtm_pca2,df[\"genre_numerical\"])\n",
    "adjusted_rand_index2"
   ]
  },
  {
   "cell_type": "code",
   "execution_count": 33,
   "id": "b1d2756c-fcc4-4e23-94ef-4675faad20b0",
   "metadata": {},
   "outputs": [
    {
     "data": {
      "text/plain": [
       "0.47858278958919126"
      ]
     },
     "execution_count": 33,
     "metadata": {},
     "output_type": "execute_result"
    }
   ],
   "source": [
    "silhouette_score2=silhouette_score(dtm2,dtm_pca2)\n",
    "silhouette_score2"
   ]
  },
  {
   "cell_type": "markdown",
   "id": "ca911175-3233-4dba-91d9-06d1c5930300",
   "metadata": {},
   "source": [
    "Now I am adding a few features for each column and trying if this would improve the performance.\n",
    "\n",
    "First of all the instrument"
   ]
  },
  {
   "cell_type": "code",
   "execution_count": 35,
   "id": "6ec6abe4-555a-41b0-b68f-4c09246d9a10",
   "metadata": {},
   "outputs": [
    {
     "data": {
      "text/plain": [
       "instrument\n",
       "guitar    65\n",
       "synth     43\n",
       "piano     12\n",
       "brass     11\n",
       "violin    10\n",
       "banjo      6\n",
       "Name: count, dtype: int64"
      ]
     },
     "execution_count": 35,
     "metadata": {},
     "output_type": "execute_result"
    }
   ],
   "source": [
    "df[\"instrument\"].value_counts()"
   ]
  },
  {
   "cell_type": "raw",
   "id": "e76fde8a-3f4d-4527-96b7-7b0c9252d369",
   "metadata": {},
   "source": [
    "We here have a total of 6 instruments\n",
    "Each instrument has a few unique features\n",
    "    frequency\n",
    "    dynamic range\n",
    "    loudness\n",
    "    pitch"
   ]
  },
  {
   "cell_type": "code",
   "execution_count": 36,
   "id": "3d5cbeb9-6b62-42ae-846b-7a9f572999f0",
   "metadata": {},
   "outputs": [],
   "source": [
    "instrument=pd.read_csv(\"instrument.csv\")"
   ]
  },
  {
   "cell_type": "code",
   "execution_count": 37,
   "id": "6697b197-b70a-4427-87ef-033ad212c264",
   "metadata": {},
   "outputs": [
    {
     "data": {
      "text/html": [
       "<div>\n",
       "<style scoped>\n",
       "    .dataframe tbody tr th:only-of-type {\n",
       "        vertical-align: middle;\n",
       "    }\n",
       "\n",
       "    .dataframe tbody tr th {\n",
       "        vertical-align: top;\n",
       "    }\n",
       "\n",
       "    .dataframe thead th {\n",
       "        text-align: right;\n",
       "    }\n",
       "</style>\n",
       "<table border=\"1\" class=\"dataframe\">\n",
       "  <thead>\n",
       "    <tr style=\"text-align: right;\">\n",
       "      <th></th>\n",
       "      <th>instrument</th>\n",
       "      <th>freq_min</th>\n",
       "      <th>freq_max</th>\n",
       "      <th>dynamic_range</th>\n",
       "      <th>loudness_min</th>\n",
       "      <th>loudness_max</th>\n",
       "      <th>pitch_min</th>\n",
       "      <th>pitch_max</th>\n",
       "    </tr>\n",
       "  </thead>\n",
       "  <tbody>\n",
       "    <tr>\n",
       "      <th>0</th>\n",
       "      <td>guitar</td>\n",
       "      <td>82.0</td>\n",
       "      <td>1.300</td>\n",
       "      <td>80</td>\n",
       "      <td>85</td>\n",
       "      <td>95</td>\n",
       "      <td>82.0</td>\n",
       "      <td>1.300</td>\n",
       "    </tr>\n",
       "    <tr>\n",
       "      <th>1</th>\n",
       "      <td>brass</td>\n",
       "      <td>165.0</td>\n",
       "      <td>15.000</td>\n",
       "      <td>90</td>\n",
       "      <td>90</td>\n",
       "      <td>120</td>\n",
       "      <td>165.0</td>\n",
       "      <td>2.093</td>\n",
       "    </tr>\n",
       "    <tr>\n",
       "      <th>2</th>\n",
       "      <td>banjo</td>\n",
       "      <td>294.0</td>\n",
       "      <td>0.588</td>\n",
       "      <td>20</td>\n",
       "      <td>95</td>\n",
       "      <td>105</td>\n",
       "      <td>196.0</td>\n",
       "      <td>0.784</td>\n",
       "    </tr>\n",
       "    <tr>\n",
       "      <th>3</th>\n",
       "      <td>synth</td>\n",
       "      <td>20.0</td>\n",
       "      <td>20.000</td>\n",
       "      <td>105</td>\n",
       "      <td>40</td>\n",
       "      <td>120</td>\n",
       "      <td>27.5</td>\n",
       "      <td>4.186</td>\n",
       "    </tr>\n",
       "    <tr>\n",
       "      <th>4</th>\n",
       "      <td>violin</td>\n",
       "      <td>196.0</td>\n",
       "      <td>20.000</td>\n",
       "      <td>30</td>\n",
       "      <td>75</td>\n",
       "      <td>100</td>\n",
       "      <td>196.0</td>\n",
       "      <td>2.637</td>\n",
       "    </tr>\n",
       "    <tr>\n",
       "      <th>5</th>\n",
       "      <td>piano</td>\n",
       "      <td>27.5</td>\n",
       "      <td>4.200</td>\n",
       "      <td>105</td>\n",
       "      <td>60</td>\n",
       "      <td>105</td>\n",
       "      <td>27.5</td>\n",
       "      <td>4.186</td>\n",
       "    </tr>\n",
       "  </tbody>\n",
       "</table>\n",
       "</div>"
      ],
      "text/plain": [
       "  instrument  freq_min  freq_max  dynamic_range  loudness_min  loudness_max  \\\n",
       "0     guitar      82.0     1.300             80            85            95   \n",
       "1      brass     165.0    15.000             90            90           120   \n",
       "2      banjo     294.0     0.588             20            95           105   \n",
       "3      synth      20.0    20.000            105            40           120   \n",
       "4     violin     196.0    20.000             30            75           100   \n",
       "5      piano      27.5     4.200            105            60           105   \n",
       "\n",
       "   pitch_min  pitch_max  \n",
       "0       82.0      1.300  \n",
       "1      165.0      2.093  \n",
       "2      196.0      0.784  \n",
       "3       27.5      4.186  \n",
       "4      196.0      2.637  \n",
       "5       27.5      4.186  "
      ]
     },
     "execution_count": 37,
     "metadata": {},
     "output_type": "execute_result"
    }
   ],
   "source": [
    "instrument"
   ]
  },
  {
   "cell_type": "markdown",
   "id": "71732efa-bb36-40fe-af9c-e429619b6bb3",
   "metadata": {},
   "source": [
    "Here I have broken down the frequency range into freq_min and freq_max similarly loudness and pitch have also been broken down"
   ]
  },
  {
   "cell_type": "markdown",
   "id": "39f612e9-f014-4c91-976b-fe92fcfe9448",
   "metadata": {},
   "source": [
    "From the below research I took a few important features for each mood\n",
    "\n",
    "https://sites.tufts.edu/eeseniordesignhandbook/2015/music-mood-classification/"
   ]
  },
  {
   "cell_type": "raw",
   "id": "27baec60-5f37-470a-9324-46430a204ed6",
   "metadata": {},
   "source": [
    "In the research there was no mood as mellow,angry,emotional,upbeat,nostalgic\n",
    "\n",
    "so I considered a few assumptions\n",
    "    mellow = calm and contentment\n",
    "    angry = frantic,depression and sad\n",
    "    emotional = exhuberant and sad\n",
    "    upbeat = energetic\n",
    "    nostalgic = contentment"
   ]
  },
  {
   "cell_type": "markdown",
   "id": "4111b9c7-c6bc-468c-8b10-51662fc8c955",
   "metadata": {},
   "source": [
    "I took the mean for all features for the above moods"
   ]
  },
  {
   "cell_type": "code",
   "execution_count": 41,
   "id": "03971675-eb77-4e07-9dfe-1858d93a6af3",
   "metadata": {},
   "outputs": [],
   "source": [
    "mood=pd.read_csv(\"mood.csv\")"
   ]
  },
  {
   "cell_type": "code",
   "execution_count": 42,
   "id": "b8944d0d-8652-4e8f-801f-b571cd585416",
   "metadata": {},
   "outputs": [
    {
     "data": {
      "text/html": [
       "<div>\n",
       "<style scoped>\n",
       "    .dataframe tbody tr th:only-of-type {\n",
       "        vertical-align: middle;\n",
       "    }\n",
       "\n",
       "    .dataframe tbody tr th {\n",
       "        vertical-align: top;\n",
       "    }\n",
       "\n",
       "    .dataframe thead th {\n",
       "        text-align: right;\n",
       "    }\n",
       "</style>\n",
       "<table border=\"1\" class=\"dataframe\">\n",
       "  <thead>\n",
       "    <tr style=\"text-align: right;\">\n",
       "      <th></th>\n",
       "      <th>mood</th>\n",
       "      <th>mean_intensity</th>\n",
       "      <th>mean_timbre</th>\n",
       "      <th>mean_pitch</th>\n",
       "      <th>mean_rhythm</th>\n",
       "    </tr>\n",
       "  </thead>\n",
       "  <tbody>\n",
       "    <tr>\n",
       "      <th>0</th>\n",
       "      <td>happy</td>\n",
       "      <td>0.20550</td>\n",
       "      <td>0.44180</td>\n",
       "      <td>967.470</td>\n",
       "      <td>209.010</td>\n",
       "    </tr>\n",
       "    <tr>\n",
       "      <th>1</th>\n",
       "      <td>mellow</td>\n",
       "      <td>0.10700</td>\n",
       "      <td>0.15815</td>\n",
       "      <td>570.070</td>\n",
       "      <td>86.980</td>\n",
       "    </tr>\n",
       "    <tr>\n",
       "      <th>2</th>\n",
       "      <td>energetic</td>\n",
       "      <td>0.45640</td>\n",
       "      <td>0.31900</td>\n",
       "      <td>381.650</td>\n",
       "      <td>163.140</td>\n",
       "    </tr>\n",
       "    <tr>\n",
       "      <th>3</th>\n",
       "      <td>sad</td>\n",
       "      <td>0.22450</td>\n",
       "      <td>0.15720</td>\n",
       "      <td>95.654</td>\n",
       "      <td>137.230</td>\n",
       "    </tr>\n",
       "    <tr>\n",
       "      <th>4</th>\n",
       "      <td>angry</td>\n",
       "      <td>0.20830</td>\n",
       "      <td>0.34090</td>\n",
       "      <td>182.690</td>\n",
       "      <td>149.630</td>\n",
       "    </tr>\n",
       "    <tr>\n",
       "      <th>5</th>\n",
       "      <td>calm</td>\n",
       "      <td>0.06580</td>\n",
       "      <td>0.10490</td>\n",
       "      <td>383.490</td>\n",
       "      <td>72.230</td>\n",
       "    </tr>\n",
       "    <tr>\n",
       "      <th>6</th>\n",
       "      <td>emotional</td>\n",
       "      <td>0.27075</td>\n",
       "      <td>0.29185</td>\n",
       "      <td>353.797</td>\n",
       "      <td>157.465</td>\n",
       "    </tr>\n",
       "    <tr>\n",
       "      <th>7</th>\n",
       "      <td>upbeat</td>\n",
       "      <td>0.45640</td>\n",
       "      <td>0.31900</td>\n",
       "      <td>381.650</td>\n",
       "      <td>163.140</td>\n",
       "    </tr>\n",
       "    <tr>\n",
       "      <th>8</th>\n",
       "      <td>nostalgic</td>\n",
       "      <td>0.14820</td>\n",
       "      <td>0.21140</td>\n",
       "      <td>756.650</td>\n",
       "      <td>101.730</td>\n",
       "    </tr>\n",
       "  </tbody>\n",
       "</table>\n",
       "</div>"
      ],
      "text/plain": [
       "        mood  mean_intensity  mean_timbre  mean_pitch  mean_rhythm\n",
       "0      happy         0.20550      0.44180     967.470      209.010\n",
       "1     mellow         0.10700      0.15815     570.070       86.980\n",
       "2  energetic         0.45640      0.31900     381.650      163.140\n",
       "3        sad         0.22450      0.15720      95.654      137.230\n",
       "4      angry         0.20830      0.34090     182.690      149.630\n",
       "5       calm         0.06580      0.10490     383.490       72.230\n",
       "6  emotional         0.27075      0.29185     353.797      157.465\n",
       "7     upbeat         0.45640      0.31900     381.650      163.140\n",
       "8  nostalgic         0.14820      0.21140     756.650      101.730"
      ]
     },
     "execution_count": 42,
     "metadata": {},
     "output_type": "execute_result"
    }
   ],
   "source": [
    "mood"
   ]
  },
  {
   "cell_type": "code",
   "execution_count": 43,
   "id": "04cfa408-e0ec-4f9c-81be-9e4f8be849e0",
   "metadata": {},
   "outputs": [],
   "source": [
    "style=pd.read_csv(\"style2.csv\")"
   ]
  },
  {
   "cell_type": "markdown",
   "id": "8d8f1619-afff-4e7d-8d83-9840fb1c7ace",
   "metadata": {},
   "source": [
    "Here also I have broken down the features containing range into min and max."
   ]
  },
  {
   "cell_type": "code",
   "execution_count": 45,
   "id": "65c9db0a-37eb-4dd6-bd67-fe910495bbdd",
   "metadata": {},
   "outputs": [
    {
     "data": {
      "text/html": [
       "<div>\n",
       "<style scoped>\n",
       "    .dataframe tbody tr th:only-of-type {\n",
       "        vertical-align: middle;\n",
       "    }\n",
       "\n",
       "    .dataframe tbody tr th {\n",
       "        vertical-align: top;\n",
       "    }\n",
       "\n",
       "    .dataframe thead th {\n",
       "        text-align: right;\n",
       "    }\n",
       "</style>\n",
       "<table border=\"1\" class=\"dataframe\">\n",
       "  <thead>\n",
       "    <tr style=\"text-align: right;\">\n",
       "      <th></th>\n",
       "      <th>style</th>\n",
       "      <th>Tempo (BPM)_min</th>\n",
       "      <th>Tempo (BPM)_max</th>\n",
       "      <th>Spectral Centroid (Hz)_min</th>\n",
       "      <th>Spectral Centroid (Hz)_max</th>\n",
       "      <th>RMS Energy_min</th>\n",
       "      <th>RMS Energy_max</th>\n",
       "      <th>Danceability_min</th>\n",
       "      <th>Danceability_max</th>\n",
       "      <th>Acousticness_min</th>\n",
       "      <th>...</th>\n",
       "      <th>Dissonance_min</th>\n",
       "      <th>Dissonance_max</th>\n",
       "      <th>Zero-Crossing Rate_min</th>\n",
       "      <th>Zero-Crossing Rate_max</th>\n",
       "      <th>Low-Freq Energy_min</th>\n",
       "      <th>Low-Freq Energy_max</th>\n",
       "      <th>HNR_min</th>\n",
       "      <th>HNR_max</th>\n",
       "      <th>Spectral Rolloff (Hz)</th>\n",
       "      <th>Spectral Rolloff (Hz).1</th>\n",
       "    </tr>\n",
       "  </thead>\n",
       "  <tbody>\n",
       "    <tr>\n",
       "      <th>0</th>\n",
       "      <td>distorted</td>\n",
       "      <td>80</td>\n",
       "      <td>160</td>\n",
       "      <td>1.5</td>\n",
       "      <td>4.0</td>\n",
       "      <td>0.90</td>\n",
       "      <td>1.0</td>\n",
       "      <td>0.30</td>\n",
       "      <td>0.50</td>\n",
       "      <td>0.10</td>\n",
       "      <td>...</td>\n",
       "      <td>0.8</td>\n",
       "      <td>0.90</td>\n",
       "      <td>0.85</td>\n",
       "      <td>0.95</td>\n",
       "      <td>0.40</td>\n",
       "      <td>0.60</td>\n",
       "      <td>0.1</td>\n",
       "      <td>0.30</td>\n",
       "      <td>6.0</td>\n",
       "      <td>10.0</td>\n",
       "    </tr>\n",
       "    <tr>\n",
       "      <th>1</th>\n",
       "      <td>melodic</td>\n",
       "      <td>60</td>\n",
       "      <td>120</td>\n",
       "      <td>0.8</td>\n",
       "      <td>2.0</td>\n",
       "      <td>0.40</td>\n",
       "      <td>0.7</td>\n",
       "      <td>0.40</td>\n",
       "      <td>0.60</td>\n",
       "      <td>0.60</td>\n",
       "      <td>...</td>\n",
       "      <td>0.1</td>\n",
       "      <td>0.30</td>\n",
       "      <td>0.20</td>\n",
       "      <td>0.40</td>\n",
       "      <td>0.10</td>\n",
       "      <td>0.30</td>\n",
       "      <td>0.7</td>\n",
       "      <td>0.90</td>\n",
       "      <td>3.0</td>\n",
       "      <td>5.0</td>\n",
       "    </tr>\n",
       "    <tr>\n",
       "      <th>2</th>\n",
       "      <td>acoustic</td>\n",
       "      <td>50</td>\n",
       "      <td>110</td>\n",
       "      <td>0.5</td>\n",
       "      <td>2.5</td>\n",
       "      <td>0.30</td>\n",
       "      <td>0.6</td>\n",
       "      <td>0.30</td>\n",
       "      <td>0.50</td>\n",
       "      <td>0.90</td>\n",
       "      <td>...</td>\n",
       "      <td>0.1</td>\n",
       "      <td>0.20</td>\n",
       "      <td>0.10</td>\n",
       "      <td>0.30</td>\n",
       "      <td>0.10</td>\n",
       "      <td>0.20</td>\n",
       "      <td>0.8</td>\n",
       "      <td>1.00</td>\n",
       "      <td>2.0</td>\n",
       "      <td>4.0</td>\n",
       "    </tr>\n",
       "    <tr>\n",
       "      <th>3</th>\n",
       "      <td>heavy</td>\n",
       "      <td>70</td>\n",
       "      <td>180</td>\n",
       "      <td>0.2</td>\n",
       "      <td>0.8</td>\n",
       "      <td>0.95</td>\n",
       "      <td>1.0</td>\n",
       "      <td>0.40</td>\n",
       "      <td>0.60</td>\n",
       "      <td>0.05</td>\n",
       "      <td>...</td>\n",
       "      <td>0.7</td>\n",
       "      <td>0.85</td>\n",
       "      <td>0.60</td>\n",
       "      <td>0.80</td>\n",
       "      <td>0.85</td>\n",
       "      <td>0.95</td>\n",
       "      <td>0.2</td>\n",
       "      <td>0.40</td>\n",
       "      <td>0.5</td>\n",
       "      <td>1.5</td>\n",
       "    </tr>\n",
       "    <tr>\n",
       "      <th>4</th>\n",
       "      <td>slow</td>\n",
       "      <td>40</td>\n",
       "      <td>70</td>\n",
       "      <td>0.3</td>\n",
       "      <td>1.0</td>\n",
       "      <td>0.20</td>\n",
       "      <td>0.4</td>\n",
       "      <td>0.10</td>\n",
       "      <td>0.30</td>\n",
       "      <td>0.70</td>\n",
       "      <td>...</td>\n",
       "      <td>0.2</td>\n",
       "      <td>0.40</td>\n",
       "      <td>0.10</td>\n",
       "      <td>0.25</td>\n",
       "      <td>0.30</td>\n",
       "      <td>0.50</td>\n",
       "      <td>0.6</td>\n",
       "      <td>0.80</td>\n",
       "      <td>1.0</td>\n",
       "      <td>2.0</td>\n",
       "    </tr>\n",
       "    <tr>\n",
       "      <th>5</th>\n",
       "      <td>upbeat</td>\n",
       "      <td>120</td>\n",
       "      <td>160</td>\n",
       "      <td>2.0</td>\n",
       "      <td>5.0</td>\n",
       "      <td>0.70</td>\n",
       "      <td>0.9</td>\n",
       "      <td>0.85</td>\n",
       "      <td>0.95</td>\n",
       "      <td>0.30</td>\n",
       "      <td>...</td>\n",
       "      <td>0.3</td>\n",
       "      <td>0.50</td>\n",
       "      <td>0.50</td>\n",
       "      <td>0.70</td>\n",
       "      <td>0.20</td>\n",
       "      <td>0.40</td>\n",
       "      <td>0.5</td>\n",
       "      <td>0.70</td>\n",
       "      <td>8.0</td>\n",
       "      <td>12.0</td>\n",
       "    </tr>\n",
       "    <tr>\n",
       "      <th>6</th>\n",
       "      <td>rhythmic</td>\n",
       "      <td>90</td>\n",
       "      <td>140</td>\n",
       "      <td>1.0</td>\n",
       "      <td>3.0</td>\n",
       "      <td>0.60</td>\n",
       "      <td>0.8</td>\n",
       "      <td>0.70</td>\n",
       "      <td>0.90</td>\n",
       "      <td>0.20</td>\n",
       "      <td>...</td>\n",
       "      <td>0.4</td>\n",
       "      <td>0.60</td>\n",
       "      <td>0.40</td>\n",
       "      <td>0.60</td>\n",
       "      <td>0.50</td>\n",
       "      <td>0.70</td>\n",
       "      <td>0.4</td>\n",
       "      <td>0.60</td>\n",
       "      <td>4.0</td>\n",
       "      <td>7.0</td>\n",
       "    </tr>\n",
       "    <tr>\n",
       "      <th>7</th>\n",
       "      <td>twangy</td>\n",
       "      <td>80</td>\n",
       "      <td>120</td>\n",
       "      <td>3.0</td>\n",
       "      <td>8.0</td>\n",
       "      <td>0.50</td>\n",
       "      <td>0.7</td>\n",
       "      <td>0.50</td>\n",
       "      <td>0.70</td>\n",
       "      <td>0.80</td>\n",
       "      <td>...</td>\n",
       "      <td>0.2</td>\n",
       "      <td>0.35</td>\n",
       "      <td>0.30</td>\n",
       "      <td>0.50</td>\n",
       "      <td>0.10</td>\n",
       "      <td>0.30</td>\n",
       "      <td>0.7</td>\n",
       "      <td>0.85</td>\n",
       "      <td>10.0</td>\n",
       "      <td>15.0</td>\n",
       "    </tr>\n",
       "    <tr>\n",
       "      <th>8</th>\n",
       "      <td>fast</td>\n",
       "      <td>160</td>\n",
       "      <td>220</td>\n",
       "      <td>1.0</td>\n",
       "      <td>4.0</td>\n",
       "      <td>0.80</td>\n",
       "      <td>1.0</td>\n",
       "      <td>0.60</td>\n",
       "      <td>0.80</td>\n",
       "      <td>0.10</td>\n",
       "      <td>...</td>\n",
       "      <td>0.6</td>\n",
       "      <td>0.80</td>\n",
       "      <td>0.70</td>\n",
       "      <td>0.90</td>\n",
       "      <td>0.60</td>\n",
       "      <td>0.80</td>\n",
       "      <td>0.3</td>\n",
       "      <td>0.50</td>\n",
       "      <td>6.0</td>\n",
       "      <td>10.0</td>\n",
       "    </tr>\n",
       "    <tr>\n",
       "      <th>9</th>\n",
       "      <td>danceable</td>\n",
       "      <td>115</td>\n",
       "      <td>130</td>\n",
       "      <td>2.0</td>\n",
       "      <td>5.0</td>\n",
       "      <td>0.70</td>\n",
       "      <td>0.9</td>\n",
       "      <td>0.90</td>\n",
       "      <td>1.00</td>\n",
       "      <td>0.20</td>\n",
       "      <td>...</td>\n",
       "      <td>0.4</td>\n",
       "      <td>0.60</td>\n",
       "      <td>0.60</td>\n",
       "      <td>0.80</td>\n",
       "      <td>0.40</td>\n",
       "      <td>0.60</td>\n",
       "      <td>0.5</td>\n",
       "      <td>0.70</td>\n",
       "      <td>8.0</td>\n",
       "      <td>12.0</td>\n",
       "    </tr>\n",
       "  </tbody>\n",
       "</table>\n",
       "<p>10 rows × 23 columns</p>\n",
       "</div>"
      ],
      "text/plain": [
       "       style  Tempo (BPM)_min  Tempo (BPM)_max  Spectral Centroid (Hz)_min  \\\n",
       "0  distorted               80              160                         1.5   \n",
       "1    melodic               60              120                         0.8   \n",
       "2   acoustic               50              110                         0.5   \n",
       "3      heavy               70              180                         0.2   \n",
       "4       slow               40               70                         0.3   \n",
       "5     upbeat              120              160                         2.0   \n",
       "6   rhythmic               90              140                         1.0   \n",
       "7     twangy               80              120                         3.0   \n",
       "8       fast              160              220                         1.0   \n",
       "9  danceable              115              130                         2.0   \n",
       "\n",
       "   Spectral Centroid (Hz)_max  RMS Energy_min  RMS Energy_max  \\\n",
       "0                         4.0            0.90             1.0   \n",
       "1                         2.0            0.40             0.7   \n",
       "2                         2.5            0.30             0.6   \n",
       "3                         0.8            0.95             1.0   \n",
       "4                         1.0            0.20             0.4   \n",
       "5                         5.0            0.70             0.9   \n",
       "6                         3.0            0.60             0.8   \n",
       "7                         8.0            0.50             0.7   \n",
       "8                         4.0            0.80             1.0   \n",
       "9                         5.0            0.70             0.9   \n",
       "\n",
       "   Danceability_min  Danceability_max  Acousticness_min  ...  Dissonance_min  \\\n",
       "0              0.30              0.50              0.10  ...             0.8   \n",
       "1              0.40              0.60              0.60  ...             0.1   \n",
       "2              0.30              0.50              0.90  ...             0.1   \n",
       "3              0.40              0.60              0.05  ...             0.7   \n",
       "4              0.10              0.30              0.70  ...             0.2   \n",
       "5              0.85              0.95              0.30  ...             0.3   \n",
       "6              0.70              0.90              0.20  ...             0.4   \n",
       "7              0.50              0.70              0.80  ...             0.2   \n",
       "8              0.60              0.80              0.10  ...             0.6   \n",
       "9              0.90              1.00              0.20  ...             0.4   \n",
       "\n",
       "   Dissonance_max  Zero-Crossing Rate_min  Zero-Crossing Rate_max  \\\n",
       "0            0.90                    0.85                    0.95   \n",
       "1            0.30                    0.20                    0.40   \n",
       "2            0.20                    0.10                    0.30   \n",
       "3            0.85                    0.60                    0.80   \n",
       "4            0.40                    0.10                    0.25   \n",
       "5            0.50                    0.50                    0.70   \n",
       "6            0.60                    0.40                    0.60   \n",
       "7            0.35                    0.30                    0.50   \n",
       "8            0.80                    0.70                    0.90   \n",
       "9            0.60                    0.60                    0.80   \n",
       "\n",
       "   Low-Freq Energy_min  Low-Freq Energy_max  HNR_min  HNR_max  \\\n",
       "0                 0.40                 0.60      0.1     0.30   \n",
       "1                 0.10                 0.30      0.7     0.90   \n",
       "2                 0.10                 0.20      0.8     1.00   \n",
       "3                 0.85                 0.95      0.2     0.40   \n",
       "4                 0.30                 0.50      0.6     0.80   \n",
       "5                 0.20                 0.40      0.5     0.70   \n",
       "6                 0.50                 0.70      0.4     0.60   \n",
       "7                 0.10                 0.30      0.7     0.85   \n",
       "8                 0.60                 0.80      0.3     0.50   \n",
       "9                 0.40                 0.60      0.5     0.70   \n",
       "\n",
       "   Spectral Rolloff (Hz)  Spectral Rolloff (Hz).1  \n",
       "0                    6.0                     10.0  \n",
       "1                    3.0                      5.0  \n",
       "2                    2.0                      4.0  \n",
       "3                    0.5                      1.5  \n",
       "4                    1.0                      2.0  \n",
       "5                    8.0                     12.0  \n",
       "6                    4.0                      7.0  \n",
       "7                   10.0                     15.0  \n",
       "8                    6.0                     10.0  \n",
       "9                    8.0                     12.0  \n",
       "\n",
       "[10 rows x 23 columns]"
      ]
     },
     "execution_count": 45,
     "metadata": {},
     "output_type": "execute_result"
    }
   ],
   "source": [
    "style"
   ]
  },
  {
   "cell_type": "code",
   "execution_count": 46,
   "id": "4edae704-c75b-4064-8a2b-38591ee19413",
   "metadata": {},
   "outputs": [],
   "source": [
    "df=df.drop([\"combined\",\"genre_numerical\"],axis=1)"
   ]
  },
  {
   "cell_type": "code",
   "execution_count": 47,
   "id": "cc1532a6-1435-4d54-b2cf-9c4fd3f543d9",
   "metadata": {},
   "outputs": [],
   "source": [
    "merged_df1 = pd.merge(df, style, on='style',how='left')\n",
    "merged_df1 = pd.merge(merged_df1, mood, on='mood',how='left')\n",
    "merged_df1 = pd.merge(merged_df1, instrument, on='instrument',how='left')"
   ]
  },
  {
   "cell_type": "code",
   "execution_count": 48,
   "id": "a939853e-c56e-498d-a3bf-0985cd324620",
   "metadata": {},
   "outputs": [],
   "source": [
    "merged_df1=merged_df1.drop([\"instrument\",\"mood\",\"genre\",\"style\"],axis=1)\n",
    "merged_df1=merged_df1.set_index(\"song_id\")"
   ]
  },
  {
   "cell_type": "code",
   "execution_count": 49,
   "id": "fc2e958f-75fb-49b6-a184-f6d67a123c2a",
   "metadata": {},
   "outputs": [
    {
     "data": {
      "text/html": [
       "<div>\n",
       "<style scoped>\n",
       "    .dataframe tbody tr th:only-of-type {\n",
       "        vertical-align: middle;\n",
       "    }\n",
       "\n",
       "    .dataframe tbody tr th {\n",
       "        vertical-align: top;\n",
       "    }\n",
       "\n",
       "    .dataframe thead th {\n",
       "        text-align: right;\n",
       "    }\n",
       "</style>\n",
       "<table border=\"1\" class=\"dataframe\">\n",
       "  <thead>\n",
       "    <tr style=\"text-align: right;\">\n",
       "      <th></th>\n",
       "      <th>Tempo (BPM)_min</th>\n",
       "      <th>Tempo (BPM)_max</th>\n",
       "      <th>Spectral Centroid (Hz)_min</th>\n",
       "      <th>Spectral Centroid (Hz)_max</th>\n",
       "      <th>RMS Energy_min</th>\n",
       "      <th>RMS Energy_max</th>\n",
       "      <th>Danceability_min</th>\n",
       "      <th>Danceability_max</th>\n",
       "      <th>Acousticness_min</th>\n",
       "      <th>Acousticness_max</th>\n",
       "      <th>...</th>\n",
       "      <th>mean_timbre</th>\n",
       "      <th>mean_pitch</th>\n",
       "      <th>mean_rhythm</th>\n",
       "      <th>freq_min</th>\n",
       "      <th>freq_max</th>\n",
       "      <th>dynamic_range</th>\n",
       "      <th>loudness_min</th>\n",
       "      <th>loudness_max</th>\n",
       "      <th>pitch_min</th>\n",
       "      <th>pitch_max</th>\n",
       "    </tr>\n",
       "    <tr>\n",
       "      <th>song_id</th>\n",
       "      <th></th>\n",
       "      <th></th>\n",
       "      <th></th>\n",
       "      <th></th>\n",
       "      <th></th>\n",
       "      <th></th>\n",
       "      <th></th>\n",
       "      <th></th>\n",
       "      <th></th>\n",
       "      <th></th>\n",
       "      <th></th>\n",
       "      <th></th>\n",
       "      <th></th>\n",
       "      <th></th>\n",
       "      <th></th>\n",
       "      <th></th>\n",
       "      <th></th>\n",
       "      <th></th>\n",
       "      <th></th>\n",
       "      <th></th>\n",
       "      <th></th>\n",
       "    </tr>\n",
       "  </thead>\n",
       "  <tbody>\n",
       "    <tr>\n",
       "      <th>74</th>\n",
       "      <td>80</td>\n",
       "      <td>160</td>\n",
       "      <td>1.5</td>\n",
       "      <td>4.0</td>\n",
       "      <td>0.90</td>\n",
       "      <td>1.0</td>\n",
       "      <td>0.3</td>\n",
       "      <td>0.5</td>\n",
       "      <td>0.10</td>\n",
       "      <td>0.2</td>\n",
       "      <td>...</td>\n",
       "      <td>0.44180</td>\n",
       "      <td>967.470</td>\n",
       "      <td>209.010</td>\n",
       "      <td>82.0</td>\n",
       "      <td>1.300</td>\n",
       "      <td>80</td>\n",
       "      <td>85</td>\n",
       "      <td>95</td>\n",
       "      <td>82.0</td>\n",
       "      <td>1.300</td>\n",
       "    </tr>\n",
       "    <tr>\n",
       "      <th>103</th>\n",
       "      <td>60</td>\n",
       "      <td>120</td>\n",
       "      <td>0.8</td>\n",
       "      <td>2.0</td>\n",
       "      <td>0.40</td>\n",
       "      <td>0.7</td>\n",
       "      <td>0.4</td>\n",
       "      <td>0.6</td>\n",
       "      <td>0.60</td>\n",
       "      <td>0.8</td>\n",
       "      <td>...</td>\n",
       "      <td>0.31900</td>\n",
       "      <td>381.650</td>\n",
       "      <td>163.140</td>\n",
       "      <td>165.0</td>\n",
       "      <td>15.000</td>\n",
       "      <td>90</td>\n",
       "      <td>90</td>\n",
       "      <td>120</td>\n",
       "      <td>165.0</td>\n",
       "      <td>2.093</td>\n",
       "    </tr>\n",
       "    <tr>\n",
       "      <th>201</th>\n",
       "      <td>50</td>\n",
       "      <td>110</td>\n",
       "      <td>0.5</td>\n",
       "      <td>2.5</td>\n",
       "      <td>0.30</td>\n",
       "      <td>0.6</td>\n",
       "      <td>0.3</td>\n",
       "      <td>0.5</td>\n",
       "      <td>0.90</td>\n",
       "      <td>1.0</td>\n",
       "      <td>...</td>\n",
       "      <td>0.44180</td>\n",
       "      <td>967.470</td>\n",
       "      <td>209.010</td>\n",
       "      <td>294.0</td>\n",
       "      <td>0.588</td>\n",
       "      <td>20</td>\n",
       "      <td>95</td>\n",
       "      <td>105</td>\n",
       "      <td>196.0</td>\n",
       "      <td>0.784</td>\n",
       "    </tr>\n",
       "    <tr>\n",
       "      <th>194</th>\n",
       "      <td>70</td>\n",
       "      <td>180</td>\n",
       "      <td>0.2</td>\n",
       "      <td>0.8</td>\n",
       "      <td>0.95</td>\n",
       "      <td>1.0</td>\n",
       "      <td>0.4</td>\n",
       "      <td>0.6</td>\n",
       "      <td>0.05</td>\n",
       "      <td>0.1</td>\n",
       "      <td>...</td>\n",
       "      <td>0.31900</td>\n",
       "      <td>381.650</td>\n",
       "      <td>163.140</td>\n",
       "      <td>20.0</td>\n",
       "      <td>20.000</td>\n",
       "      <td>105</td>\n",
       "      <td>40</td>\n",
       "      <td>120</td>\n",
       "      <td>27.5</td>\n",
       "      <td>4.186</td>\n",
       "    </tr>\n",
       "    <tr>\n",
       "      <th>184</th>\n",
       "      <td>40</td>\n",
       "      <td>70</td>\n",
       "      <td>0.3</td>\n",
       "      <td>1.0</td>\n",
       "      <td>0.20</td>\n",
       "      <td>0.4</td>\n",
       "      <td>0.1</td>\n",
       "      <td>0.3</td>\n",
       "      <td>0.70</td>\n",
       "      <td>0.9</td>\n",
       "      <td>...</td>\n",
       "      <td>0.31900</td>\n",
       "      <td>381.650</td>\n",
       "      <td>163.140</td>\n",
       "      <td>20.0</td>\n",
       "      <td>20.000</td>\n",
       "      <td>105</td>\n",
       "      <td>40</td>\n",
       "      <td>120</td>\n",
       "      <td>27.5</td>\n",
       "      <td>4.186</td>\n",
       "    </tr>\n",
       "    <tr>\n",
       "      <th>...</th>\n",
       "      <td>...</td>\n",
       "      <td>...</td>\n",
       "      <td>...</td>\n",
       "      <td>...</td>\n",
       "      <td>...</td>\n",
       "      <td>...</td>\n",
       "      <td>...</td>\n",
       "      <td>...</td>\n",
       "      <td>...</td>\n",
       "      <td>...</td>\n",
       "      <td>...</td>\n",
       "      <td>...</td>\n",
       "      <td>...</td>\n",
       "      <td>...</td>\n",
       "      <td>...</td>\n",
       "      <td>...</td>\n",
       "      <td>...</td>\n",
       "      <td>...</td>\n",
       "      <td>...</td>\n",
       "      <td>...</td>\n",
       "      <td>...</td>\n",
       "    </tr>\n",
       "    <tr>\n",
       "      <th>195</th>\n",
       "      <td>60</td>\n",
       "      <td>120</td>\n",
       "      <td>0.8</td>\n",
       "      <td>2.0</td>\n",
       "      <td>0.40</td>\n",
       "      <td>0.7</td>\n",
       "      <td>0.4</td>\n",
       "      <td>0.6</td>\n",
       "      <td>0.60</td>\n",
       "      <td>0.8</td>\n",
       "      <td>...</td>\n",
       "      <td>0.34090</td>\n",
       "      <td>182.690</td>\n",
       "      <td>149.630</td>\n",
       "      <td>20.0</td>\n",
       "      <td>20.000</td>\n",
       "      <td>105</td>\n",
       "      <td>40</td>\n",
       "      <td>120</td>\n",
       "      <td>27.5</td>\n",
       "      <td>4.186</td>\n",
       "    </tr>\n",
       "    <tr>\n",
       "      <th>7</th>\n",
       "      <td>160</td>\n",
       "      <td>220</td>\n",
       "      <td>1.0</td>\n",
       "      <td>4.0</td>\n",
       "      <td>0.80</td>\n",
       "      <td>1.0</td>\n",
       "      <td>0.6</td>\n",
       "      <td>0.8</td>\n",
       "      <td>0.10</td>\n",
       "      <td>0.3</td>\n",
       "      <td>...</td>\n",
       "      <td>0.31900</td>\n",
       "      <td>381.650</td>\n",
       "      <td>163.140</td>\n",
       "      <td>82.0</td>\n",
       "      <td>1.300</td>\n",
       "      <td>80</td>\n",
       "      <td>85</td>\n",
       "      <td>95</td>\n",
       "      <td>82.0</td>\n",
       "      <td>1.300</td>\n",
       "    </tr>\n",
       "    <tr>\n",
       "      <th>14</th>\n",
       "      <td>90</td>\n",
       "      <td>140</td>\n",
       "      <td>1.0</td>\n",
       "      <td>3.0</td>\n",
       "      <td>0.60</td>\n",
       "      <td>0.8</td>\n",
       "      <td>0.7</td>\n",
       "      <td>0.9</td>\n",
       "      <td>0.20</td>\n",
       "      <td>0.4</td>\n",
       "      <td>...</td>\n",
       "      <td>0.44180</td>\n",
       "      <td>967.470</td>\n",
       "      <td>209.010</td>\n",
       "      <td>82.0</td>\n",
       "      <td>1.300</td>\n",
       "      <td>80</td>\n",
       "      <td>85</td>\n",
       "      <td>95</td>\n",
       "      <td>82.0</td>\n",
       "      <td>1.300</td>\n",
       "    </tr>\n",
       "    <tr>\n",
       "      <th>36</th>\n",
       "      <td>115</td>\n",
       "      <td>130</td>\n",
       "      <td>2.0</td>\n",
       "      <td>5.0</td>\n",
       "      <td>0.70</td>\n",
       "      <td>0.9</td>\n",
       "      <td>0.9</td>\n",
       "      <td>1.0</td>\n",
       "      <td>0.20</td>\n",
       "      <td>0.4</td>\n",
       "      <td>...</td>\n",
       "      <td>0.15815</td>\n",
       "      <td>570.070</td>\n",
       "      <td>86.980</td>\n",
       "      <td>20.0</td>\n",
       "      <td>20.000</td>\n",
       "      <td>105</td>\n",
       "      <td>40</td>\n",
       "      <td>120</td>\n",
       "      <td>27.5</td>\n",
       "      <td>4.186</td>\n",
       "    </tr>\n",
       "    <tr>\n",
       "      <th>29</th>\n",
       "      <td>40</td>\n",
       "      <td>70</td>\n",
       "      <td>0.3</td>\n",
       "      <td>1.0</td>\n",
       "      <td>0.20</td>\n",
       "      <td>0.4</td>\n",
       "      <td>0.1</td>\n",
       "      <td>0.3</td>\n",
       "      <td>0.70</td>\n",
       "      <td>0.9</td>\n",
       "      <td>...</td>\n",
       "      <td>0.29185</td>\n",
       "      <td>353.797</td>\n",
       "      <td>157.465</td>\n",
       "      <td>20.0</td>\n",
       "      <td>20.000</td>\n",
       "      <td>105</td>\n",
       "      <td>40</td>\n",
       "      <td>120</td>\n",
       "      <td>27.5</td>\n",
       "      <td>4.186</td>\n",
       "    </tr>\n",
       "  </tbody>\n",
       "</table>\n",
       "<p>147 rows × 33 columns</p>\n",
       "</div>"
      ],
      "text/plain": [
       "         Tempo (BPM)_min  Tempo (BPM)_max  Spectral Centroid (Hz)_min  \\\n",
       "song_id                                                                 \n",
       "74                    80              160                         1.5   \n",
       "103                   60              120                         0.8   \n",
       "201                   50              110                         0.5   \n",
       "194                   70              180                         0.2   \n",
       "184                   40               70                         0.3   \n",
       "...                  ...              ...                         ...   \n",
       "195                   60              120                         0.8   \n",
       "7                    160              220                         1.0   \n",
       "14                    90              140                         1.0   \n",
       "36                   115              130                         2.0   \n",
       "29                    40               70                         0.3   \n",
       "\n",
       "         Spectral Centroid (Hz)_max  RMS Energy_min  RMS Energy_max  \\\n",
       "song_id                                                               \n",
       "74                              4.0            0.90             1.0   \n",
       "103                             2.0            0.40             0.7   \n",
       "201                             2.5            0.30             0.6   \n",
       "194                             0.8            0.95             1.0   \n",
       "184                             1.0            0.20             0.4   \n",
       "...                             ...             ...             ...   \n",
       "195                             2.0            0.40             0.7   \n",
       "7                               4.0            0.80             1.0   \n",
       "14                              3.0            0.60             0.8   \n",
       "36                              5.0            0.70             0.9   \n",
       "29                              1.0            0.20             0.4   \n",
       "\n",
       "         Danceability_min  Danceability_max  Acousticness_min  \\\n",
       "song_id                                                         \n",
       "74                    0.3               0.5              0.10   \n",
       "103                   0.4               0.6              0.60   \n",
       "201                   0.3               0.5              0.90   \n",
       "194                   0.4               0.6              0.05   \n",
       "184                   0.1               0.3              0.70   \n",
       "...                   ...               ...               ...   \n",
       "195                   0.4               0.6              0.60   \n",
       "7                     0.6               0.8              0.10   \n",
       "14                    0.7               0.9              0.20   \n",
       "36                    0.9               1.0              0.20   \n",
       "29                    0.1               0.3              0.70   \n",
       "\n",
       "         Acousticness_max  ...  mean_timbre  mean_pitch  mean_rhythm  \\\n",
       "song_id                    ...                                         \n",
       "74                    0.2  ...      0.44180     967.470      209.010   \n",
       "103                   0.8  ...      0.31900     381.650      163.140   \n",
       "201                   1.0  ...      0.44180     967.470      209.010   \n",
       "194                   0.1  ...      0.31900     381.650      163.140   \n",
       "184                   0.9  ...      0.31900     381.650      163.140   \n",
       "...                   ...  ...          ...         ...          ...   \n",
       "195                   0.8  ...      0.34090     182.690      149.630   \n",
       "7                     0.3  ...      0.31900     381.650      163.140   \n",
       "14                    0.4  ...      0.44180     967.470      209.010   \n",
       "36                    0.4  ...      0.15815     570.070       86.980   \n",
       "29                    0.9  ...      0.29185     353.797      157.465   \n",
       "\n",
       "         freq_min  freq_max  dynamic_range  loudness_min  loudness_max  \\\n",
       "song_id                                                                  \n",
       "74           82.0     1.300             80            85            95   \n",
       "103         165.0    15.000             90            90           120   \n",
       "201         294.0     0.588             20            95           105   \n",
       "194          20.0    20.000            105            40           120   \n",
       "184          20.0    20.000            105            40           120   \n",
       "...           ...       ...            ...           ...           ...   \n",
       "195          20.0    20.000            105            40           120   \n",
       "7            82.0     1.300             80            85            95   \n",
       "14           82.0     1.300             80            85            95   \n",
       "36           20.0    20.000            105            40           120   \n",
       "29           20.0    20.000            105            40           120   \n",
       "\n",
       "         pitch_min  pitch_max  \n",
       "song_id                        \n",
       "74            82.0      1.300  \n",
       "103          165.0      2.093  \n",
       "201          196.0      0.784  \n",
       "194           27.5      4.186  \n",
       "184           27.5      4.186  \n",
       "...            ...        ...  \n",
       "195           27.5      4.186  \n",
       "7             82.0      1.300  \n",
       "14            82.0      1.300  \n",
       "36            27.5      4.186  \n",
       "29            27.5      4.186  \n",
       "\n",
       "[147 rows x 33 columns]"
      ]
     },
     "execution_count": 49,
     "metadata": {},
     "output_type": "execute_result"
    }
   ],
   "source": [
    "merged_df1"
   ]
  },
  {
   "cell_type": "code",
   "execution_count": 50,
   "id": "22eefc47-5fc5-4ea2-b540-b2aa310b18df",
   "metadata": {},
   "outputs": [
    {
     "data": {
      "image/png": "[encoded data removed]",
      "text/plain": [
       "<Figure size 1200x600 with 1 Axes>"
      ]
     },
     "metadata": {},
     "output_type": "display_data"
    }
   ],
   "source": [
    "pca_data1, explained_variance_ratio1 = pca(merged_df1, n_comp=3)\n",
    "\n",
    "n_components_plotted = len(explained_variance_ratio1)\n",
    "component_numbers = range(1, n_components_plotted + 1) \n",
    "\n",
    "plt.figure(figsize=(12, 6))\n",
    "plt.bar(component_numbers, explained_variance_ratio1*100)\n",
    "plt.xlabel(\"Principal Component Number\")\n",
    "plt.ylabel(\"Explained Variance Ratio\")\n",
    "plt.title(\"Explained Variance Ratio per Principal Component\")\n",
    "plt.xticks(component_numbers) \n",
    "plt.ylim(0, 50) \n",
    "plt.show()"
   ]
  },
  {
   "cell_type": "code",
   "execution_count": 51,
   "id": "9a144bfa-b52e-4101-8b67-db5423069223",
   "metadata": {},
   "outputs": [
    {
     "data": {
      "image/png": "[encoded data removed]",
      "text/plain": [
       "<Figure size 800x600 with 1 Axes>"
      ]
     },
     "metadata": {},
     "output_type": "display_data"
    }
   ],
   "source": [
    "inertia_values = []\n",
    "\n",
    "for k in range(1, 11): \n",
    "    labels, centroids1 = kmeans(pca_data1, k) \n",
    "    distances = np.linalg.norm(pca_data1[:, np.newaxis] - centroids1, axis=2)\n",
    "    min_distances = np.min(distances, axis=1)\n",
    "    inertia = np.sum(min_distances**2)\n",
    "    inertia_values.append(inertia)\n",
    "\n",
    "plt.figure(figsize=(8, 6))\n",
    "plt.plot(range(1, 11), inertia_values)\n",
    "plt.xlabel(\"Number of Clusters (k)\")\n",
    "plt.ylabel(\"Inertia\")\n",
    "plt.title(\"Elbow Method for Optimal k\")\n",
    "plt.xticks(range(1, 11)) \n",
    "plt.show()"
   ]
  },
  {
   "cell_type": "markdown",
   "id": "7e2ede7f-0abb-4f47-9e1d-809e6fb33b72",
   "metadata": {},
   "source": [
    "From the above graph 2 or 4 clusters is a better choice."
   ]
  },
  {
   "cell_type": "code",
   "execution_count": 53,
   "id": "f83db518-f843-446f-bd36-1420fa051727",
   "metadata": {},
   "outputs": [],
   "source": [
    "df1, centroids1 = kmeans(pca_data1, 5)"
   ]
  },
  {
   "cell_type": "code",
   "execution_count": 54,
   "id": "e050e363-ea78-45d7-9581-ffaff72bcd91",
   "metadata": {},
   "outputs": [],
   "source": [
    "df[\"genre_numerical\"], _ = pd.factorize(df[\"genre\"])"
   ]
  },
  {
   "cell_type": "code",
   "execution_count": 55,
   "id": "aa44835d-d528-43c1-9872-a61e7595d5e9",
   "metadata": {},
   "outputs": [
    {
     "data": {
      "text/plain": [
       "0.39332344113535306"
      ]
     },
     "execution_count": 55,
     "metadata": {},
     "output_type": "execute_result"
    }
   ],
   "source": [
    "adjusted_rand_index3=adjusted_rand_index(df1,df[\"genre_numerical\"])\n",
    "adjusted_rand_index3"
   ]
  },
  {
   "cell_type": "code",
   "execution_count": 56,
   "id": "07a11bd1-1b67-4837-a243-b21b1b7868e6",
   "metadata": {},
   "outputs": [
    {
     "data": {
      "text/plain": [
       "0.49651595690603184"
      ]
     },
     "execution_count": 56,
     "metadata": {},
     "output_type": "execute_result"
    }
   ],
   "source": [
    "silhouette_score3=silhouette_score(pca_data1,df1)\n",
    "silhouette_score3"
   ]
  },
  {
   "cell_type": "markdown",
   "id": "4a8b8255-e579-4e81-868b-d1543366df16",
   "metadata": {},
   "source": [
    "As we can see from above there was only a minor improvement in the metrics even after adding many more features.\n",
    "\n",
    "So I tried once again but by considering only the most important features of of each keyword to see if there would be any improvement."
   ]
  },
  {
   "cell_type": "code",
   "execution_count": 58,
   "id": "0d049532-623d-4bc7-a0f2-dd7fe8190599",
   "metadata": {},
   "outputs": [],
   "source": [
    "instrument2=instrument[[\"instrument\",\"freq_min\",\"freq_max\"]]\n",
    "mood2=mood[[\"mood\",\"mean_timbre\"]]\n",
    "style2=style[[\"style\",\"Tempo (BPM)_min\",\"Tempo (BPM)_max\"]]\n",
    "\n",
    "merged_df2 = pd.merge(df, style2, on='style',how='left')\n",
    "merged_df2 = pd.merge(merged_df2, mood2, on='mood',how='left')\n",
    "merged_df2 = pd.merge(merged_df2, instrument2, on='instrument',how='left')\n",
    "\n",
    "merged_df2=merged_df2.drop([\"instrument\",\"mood\",\"genre\",\"style\"],axis=1)\n",
    "merged_df2=merged_df2.set_index(\"song_id\")"
   ]
  },
  {
   "cell_type": "code",
   "execution_count": 59,
   "id": "3a03acbd-cb01-4cc8-9f18-7457ceb06ef1",
   "metadata": {},
   "outputs": [
    {
     "data": {
      "text/html": [
       "<div>\n",
       "<style scoped>\n",
       "    .dataframe tbody tr th:only-of-type {\n",
       "        vertical-align: middle;\n",
       "    }\n",
       "\n",
       "    .dataframe tbody tr th {\n",
       "        vertical-align: top;\n",
       "    }\n",
       "\n",
       "    .dataframe thead th {\n",
       "        text-align: right;\n",
       "    }\n",
       "</style>\n",
       "<table border=\"1\" class=\"dataframe\">\n",
       "  <thead>\n",
       "    <tr style=\"text-align: right;\">\n",
       "      <th></th>\n",
       "      <th>genre_numerical</th>\n",
       "      <th>Tempo (BPM)_min</th>\n",
       "      <th>Tempo (BPM)_max</th>\n",
       "      <th>mean_timbre</th>\n",
       "      <th>freq_min</th>\n",
       "      <th>freq_max</th>\n",
       "    </tr>\n",
       "    <tr>\n",
       "      <th>song_id</th>\n",
       "      <th></th>\n",
       "      <th></th>\n",
       "      <th></th>\n",
       "      <th></th>\n",
       "      <th></th>\n",
       "      <th></th>\n",
       "    </tr>\n",
       "  </thead>\n",
       "  <tbody>\n",
       "    <tr>\n",
       "      <th>74</th>\n",
       "      <td>0</td>\n",
       "      <td>80</td>\n",
       "      <td>160</td>\n",
       "      <td>0.44180</td>\n",
       "      <td>82.0</td>\n",
       "      <td>1.300</td>\n",
       "    </tr>\n",
       "    <tr>\n",
       "      <th>103</th>\n",
       "      <td>1</td>\n",
       "      <td>60</td>\n",
       "      <td>120</td>\n",
       "      <td>0.31900</td>\n",
       "      <td>165.0</td>\n",
       "      <td>15.000</td>\n",
       "    </tr>\n",
       "    <tr>\n",
       "      <th>201</th>\n",
       "      <td>2</td>\n",
       "      <td>50</td>\n",
       "      <td>110</td>\n",
       "      <td>0.44180</td>\n",
       "      <td>294.0</td>\n",
       "      <td>0.588</td>\n",
       "    </tr>\n",
       "    <tr>\n",
       "      <th>194</th>\n",
       "      <td>3</td>\n",
       "      <td>70</td>\n",
       "      <td>180</td>\n",
       "      <td>0.31900</td>\n",
       "      <td>20.0</td>\n",
       "      <td>20.000</td>\n",
       "    </tr>\n",
       "    <tr>\n",
       "      <th>184</th>\n",
       "      <td>3</td>\n",
       "      <td>40</td>\n",
       "      <td>70</td>\n",
       "      <td>0.31900</td>\n",
       "      <td>20.0</td>\n",
       "      <td>20.000</td>\n",
       "    </tr>\n",
       "    <tr>\n",
       "      <th>...</th>\n",
       "      <td>...</td>\n",
       "      <td>...</td>\n",
       "      <td>...</td>\n",
       "      <td>...</td>\n",
       "      <td>...</td>\n",
       "      <td>...</td>\n",
       "    </tr>\n",
       "    <tr>\n",
       "      <th>195</th>\n",
       "      <td>3</td>\n",
       "      <td>60</td>\n",
       "      <td>120</td>\n",
       "      <td>0.34090</td>\n",
       "      <td>20.0</td>\n",
       "      <td>20.000</td>\n",
       "    </tr>\n",
       "    <tr>\n",
       "      <th>7</th>\n",
       "      <td>4</td>\n",
       "      <td>160</td>\n",
       "      <td>220</td>\n",
       "      <td>0.31900</td>\n",
       "      <td>82.0</td>\n",
       "      <td>1.300</td>\n",
       "    </tr>\n",
       "    <tr>\n",
       "      <th>14</th>\n",
       "      <td>4</td>\n",
       "      <td>90</td>\n",
       "      <td>140</td>\n",
       "      <td>0.44180</td>\n",
       "      <td>82.0</td>\n",
       "      <td>1.300</td>\n",
       "    </tr>\n",
       "    <tr>\n",
       "      <th>36</th>\n",
       "      <td>4</td>\n",
       "      <td>115</td>\n",
       "      <td>130</td>\n",
       "      <td>0.15815</td>\n",
       "      <td>20.0</td>\n",
       "      <td>20.000</td>\n",
       "    </tr>\n",
       "    <tr>\n",
       "      <th>29</th>\n",
       "      <td>4</td>\n",
       "      <td>40</td>\n",
       "      <td>70</td>\n",
       "      <td>0.29185</td>\n",
       "      <td>20.0</td>\n",
       "      <td>20.000</td>\n",
       "    </tr>\n",
       "  </tbody>\n",
       "</table>\n",
       "<p>147 rows × 6 columns</p>\n",
       "</div>"
      ],
      "text/plain": [
       "         genre_numerical  Tempo (BPM)_min  Tempo (BPM)_max  mean_timbre  \\\n",
       "song_id                                                                   \n",
       "74                     0               80              160      0.44180   \n",
       "103                    1               60              120      0.31900   \n",
       "201                    2               50              110      0.44180   \n",
       "194                    3               70              180      0.31900   \n",
       "184                    3               40               70      0.31900   \n",
       "...                  ...              ...              ...          ...   \n",
       "195                    3               60              120      0.34090   \n",
       "7                      4              160              220      0.31900   \n",
       "14                     4               90              140      0.44180   \n",
       "36                     4              115              130      0.15815   \n",
       "29                     4               40               70      0.29185   \n",
       "\n",
       "         freq_min  freq_max  \n",
       "song_id                      \n",
       "74           82.0     1.300  \n",
       "103         165.0    15.000  \n",
       "201         294.0     0.588  \n",
       "194          20.0    20.000  \n",
       "184          20.0    20.000  \n",
       "...           ...       ...  \n",
       "195          20.0    20.000  \n",
       "7            82.0     1.300  \n",
       "14           82.0     1.300  \n",
       "36           20.0    20.000  \n",
       "29           20.0    20.000  \n",
       "\n",
       "[147 rows x 6 columns]"
      ]
     },
     "execution_count": 59,
     "metadata": {},
     "output_type": "execute_result"
    }
   ],
   "source": [
    "merged_df2"
   ]
  },
  {
   "cell_type": "code",
   "execution_count": 60,
   "id": "fa70255e-84b5-432b-93a4-5e7055f9bc39",
   "metadata": {},
   "outputs": [
    {
     "data": {
      "image/png": "[encoded data removed]",
      "text/plain": [
       "<Figure size 1200x600 with 1 Axes>"
      ]
     },
     "metadata": {},
     "output_type": "display_data"
    }
   ],
   "source": [
    "pca_data2, explained_variance_ratio2 = pca(merged_df2, n_comp=3)\n",
    "\n",
    "n_components_plotted = len(explained_variance_ratio2)\n",
    "component_numbers = range(1, n_components_plotted + 1) \n",
    "\n",
    "plt.figure(figsize=(12, 6))\n",
    "plt.bar(component_numbers, explained_variance_ratio2*100)\n",
    "plt.xlabel(\"Principal Component Number\")\n",
    "plt.ylabel(\"Explained Variance Ratio\")\n",
    "plt.title(\"Explained Variance Ratio per Principal Component\")\n",
    "plt.xticks(component_numbers) \n",
    "plt.ylim(0, 50) \n",
    "plt.show()"
   ]
  },
  {
   "cell_type": "code",
   "execution_count": 61,
   "id": "3966dde6-e34e-4315-882e-91fc828a06e8",
   "metadata": {},
   "outputs": [
    {
     "data": {
      "image/png": "[encoded data removed]",
      "text/plain": [
       "<Figure size 800x600 with 1 Axes>"
      ]
     },
     "metadata": {},
     "output_type": "display_data"
    }
   ],
   "source": [
    "inertia_values = []\n",
    "\n",
    "for k in range(1, 11): \n",
    "    labels, centroids = kmeans(pca_data2, k) \n",
    "    distances = np.linalg.norm(pca_data2[:, np.newaxis] - centroids, axis=2)\n",
    "    min_distances = np.min(distances, axis=1)\n",
    "    inertia = np.sum(min_distances**2)\n",
    "    inertia_values.append(inertia)\n",
    "\n",
    "plt.figure(figsize=(8, 6))\n",
    "plt.plot(range(1, 11), inertia_values)\n",
    "plt.xlabel(\"Number of Clusters (k)\")\n",
    "plt.ylabel(\"Inertia\")\n",
    "plt.title(\"Elbow Method for Optimal k\")\n",
    "plt.xticks(range(1, 11)) \n",
    "plt.show()"
   ]
  },
  {
   "cell_type": "markdown",
   "id": "0cc14f40-1f54-40a0-9e2e-721009647034",
   "metadata": {},
   "source": [
    "From the above graph 2 or 3 clusters is a batter choice."
   ]
  },
  {
   "cell_type": "code",
   "execution_count": 63,
   "id": "a17c9a3d-1a81-4987-91a4-4d6c891ec14c",
   "metadata": {},
   "outputs": [
    {
     "data": {
      "text/plain": [
       "0.32771665412795015"
      ]
     },
     "execution_count": 63,
     "metadata": {},
     "output_type": "execute_result"
    }
   ],
   "source": [
    "df2, centroids = kmeans(pca_data2, 5)\n",
    "df[\"genre_numerical\"], _ = pd.factorize(df[\"genre\"])\n",
    "adjusted_rand_index4=adjusted_rand_index(df2,df[\"genre_numerical\"])\n",
    "adjusted_rand_index4"
   ]
  },
  {
   "cell_type": "code",
   "execution_count": 64,
   "id": "8482872d-13e8-42cc-a169-a1d4a1c2b297",
   "metadata": {},
   "outputs": [
    {
     "data": {
      "text/plain": [
       "0.30723181641927094"
      ]
     },
     "execution_count": 64,
     "metadata": {},
     "output_type": "execute_result"
    }
   ],
   "source": [
    "silhouette_score4=silhouette_score(pca_data2,df2)\n",
    "silhouette_score4"
   ]
  },
  {
   "cell_type": "code",
   "execution_count": 65,
   "id": "86602e40-c3a2-4cb9-a2ce-a7d485a73f55",
   "metadata": {},
   "outputs": [
    {
     "data": {
      "text/html": [
       "<div>\n",
       "<style scoped>\n",
       "    .dataframe tbody tr th:only-of-type {\n",
       "        vertical-align: middle;\n",
       "    }\n",
       "\n",
       "    .dataframe tbody tr th {\n",
       "        vertical-align: top;\n",
       "    }\n",
       "\n",
       "    .dataframe thead th {\n",
       "        text-align: right;\n",
       "    }\n",
       "</style>\n",
       "<table border=\"1\" class=\"dataframe\">\n",
       "  <thead>\n",
       "    <tr style=\"text-align: right;\">\n",
       "      <th></th>\n",
       "      <th>Name</th>\n",
       "      <th>adjusted_rand_index</th>\n",
       "      <th>silhouette_score</th>\n",
       "    </tr>\n",
       "  </thead>\n",
       "  <tbody>\n",
       "    <tr>\n",
       "      <th>0</th>\n",
       "      <td>Bow</td>\n",
       "      <td>0.390248</td>\n",
       "      <td>0.478583</td>\n",
       "    </tr>\n",
       "    <tr>\n",
       "      <th>1</th>\n",
       "      <td>TfIdf</td>\n",
       "      <td>0.390248</td>\n",
       "      <td>0.478583</td>\n",
       "    </tr>\n",
       "    <tr>\n",
       "      <th>2</th>\n",
       "      <td>added_features</td>\n",
       "      <td>0.393323</td>\n",
       "      <td>0.496516</td>\n",
       "    </tr>\n",
       "    <tr>\n",
       "      <th>3</th>\n",
       "      <td>most_imp_from_added</td>\n",
       "      <td>0.327717</td>\n",
       "      <td>0.307232</td>\n",
       "    </tr>\n",
       "  </tbody>\n",
       "</table>\n",
       "</div>"
      ],
      "text/plain": [
       "                  Name  adjusted_rand_index  silhouette_score\n",
       "0                  Bow             0.390248          0.478583\n",
       "1                TfIdf             0.390248          0.478583\n",
       "2       added_features             0.393323          0.496516\n",
       "3  most_imp_from_added             0.327717          0.307232"
      ]
     },
     "execution_count": 65,
     "metadata": {},
     "output_type": "execute_result"
    }
   ],
   "source": [
    "data = {'Name': ['Bow', 'TfIdf', 'added_features','most_imp_from_added'],\n",
    "        'adjusted_rand_index': [adjusted_rand_index1,adjusted_rand_index2,adjusted_rand_index3,adjusted_rand_index4],\n",
    "       'silhouette_score': [silhouette_score1,silhouette_score2,silhouette_score3,silhouette_score4]}\n",
    "data=pd.DataFrame(data)\n",
    "data"
   ]
  },
  {
   "cell_type": "markdown",
   "id": "bdeab204-41cd-4cac-b7a4-449554980c69",
   "metadata": {},
   "source": [
    "From the above table it is clear that both Bow and TfIdf have performed equally good.\n",
    "\n",
    "TfIdf is usually better as it gives less weightage for the words that occur more frequently and gives high weightage for the rare and more important terms.But here as there are no unnecessary words i.e. no stopwords and also commonly occuring words but only 3 important words of each song Hence they both are performing equally well.\n",
    "\n",
    "After adding many more features there was only a slight improvement in the metrics.But after removing maijority of the features and considering only the most defining features resulted in a dip in performance.Hence stating that there are other features influencing the performance.\n",
    "\n",
    "I have plotted the elbow method graphs in each model, from this the point to consider is that 2,3 and 4 clusters prove to be better than 5 clusters.\n",
    "\n",
    "Either ways the scores of all the models are still far from perfect i.e. far from 1 that states that there are other features rather than genre that these song are similar to.\n",
    "\n",
    "Let's see the outputs for the best model here"
   ]
  },
  {
   "cell_type": "code",
   "execution_count": 67,
   "id": "d7a65ac6-a44a-4511-bd78-df65ddca9bcf",
   "metadata": {},
   "outputs": [],
   "source": [
    "df1=pd.DataFrame(df1)\n",
    "df1=pd.concat([df1,df[\"genre\"]],axis=1)\n",
    "df1=df1.rename(columns={0: 'cluster'})"
   ]
  },
  {
   "cell_type": "code",
   "execution_count": 68,
   "id": "a2456fd5-0ae0-4c0a-99a3-9156cec4b992",
   "metadata": {},
   "outputs": [
    {
     "data": {
      "text/html": [
       "<div>\n",
       "<style scoped>\n",
       "    .dataframe tbody tr th:only-of-type {\n",
       "        vertical-align: middle;\n",
       "    }\n",
       "\n",
       "    .dataframe tbody tr th {\n",
       "        vertical-align: top;\n",
       "    }\n",
       "\n",
       "    .dataframe thead th {\n",
       "        text-align: right;\n",
       "    }\n",
       "</style>\n",
       "<table border=\"1\" class=\"dataframe\">\n",
       "  <thead>\n",
       "    <tr style=\"text-align: right;\">\n",
       "      <th></th>\n",
       "      <th>cluster</th>\n",
       "      <th>genre</th>\n",
       "    </tr>\n",
       "  </thead>\n",
       "  <tbody>\n",
       "    <tr>\n",
       "      <th>0</th>\n",
       "      <td>3</td>\n",
       "      <td>rock</td>\n",
       "    </tr>\n",
       "    <tr>\n",
       "      <th>1</th>\n",
       "      <td>2</td>\n",
       "      <td>classical</td>\n",
       "    </tr>\n",
       "    <tr>\n",
       "      <th>2</th>\n",
       "      <td>2</td>\n",
       "      <td>country</td>\n",
       "    </tr>\n",
       "    <tr>\n",
       "      <th>3</th>\n",
       "      <td>0</td>\n",
       "      <td>hip-hop</td>\n",
       "    </tr>\n",
       "    <tr>\n",
       "      <th>4</th>\n",
       "      <td>2</td>\n",
       "      <td>hip-hop</td>\n",
       "    </tr>\n",
       "    <tr>\n",
       "      <th>...</th>\n",
       "      <td>...</td>\n",
       "      <td>...</td>\n",
       "    </tr>\n",
       "    <tr>\n",
       "      <th>142</th>\n",
       "      <td>2</td>\n",
       "      <td>hip-hop</td>\n",
       "    </tr>\n",
       "    <tr>\n",
       "      <th>143</th>\n",
       "      <td>3</td>\n",
       "      <td>pop</td>\n",
       "    </tr>\n",
       "    <tr>\n",
       "      <th>144</th>\n",
       "      <td>3</td>\n",
       "      <td>pop</td>\n",
       "    </tr>\n",
       "    <tr>\n",
       "      <th>145</th>\n",
       "      <td>4</td>\n",
       "      <td>pop</td>\n",
       "    </tr>\n",
       "    <tr>\n",
       "      <th>146</th>\n",
       "      <td>2</td>\n",
       "      <td>pop</td>\n",
       "    </tr>\n",
       "  </tbody>\n",
       "</table>\n",
       "<p>147 rows × 2 columns</p>\n",
       "</div>"
      ],
      "text/plain": [
       "     cluster      genre\n",
       "0          3       rock\n",
       "1          2  classical\n",
       "2          2    country\n",
       "3          0    hip-hop\n",
       "4          2    hip-hop\n",
       "..       ...        ...\n",
       "142        2    hip-hop\n",
       "143        3        pop\n",
       "144        3        pop\n",
       "145        4        pop\n",
       "146        2        pop\n",
       "\n",
       "[147 rows x 2 columns]"
      ]
     },
     "execution_count": 68,
     "metadata": {},
     "output_type": "execute_result"
    }
   ],
   "source": [
    "df1"
   ]
  },
  {
   "cell_type": "code",
   "execution_count": 69,
   "id": "71023531-d4bf-4937-82fb-f7531ab191c3",
   "metadata": {},
   "outputs": [
    {
     "data": {
      "text/plain": [
       "<Axes: xlabel='genre', ylabel='Count'>"
      ]
     },
     "execution_count": 69,
     "metadata": {},
     "output_type": "execute_result"
    },
    {
     "data": {
      "image/png": "[encoded data removed]",
      "text/plain": [
       "<Figure size 640x480 with 1 Axes>"
      ]
     },
     "metadata": {},
     "output_type": "display_data"
    }
   ],
   "source": [
    "sns.histplot(data=df1[df1[\"cluster\"]==0],x= \"genre\")"
   ]
  },
  {
   "cell_type": "code",
   "execution_count": 70,
   "id": "439cf6f9-cf3b-4165-acf9-ff61e1491d43",
   "metadata": {},
   "outputs": [
    {
     "data": {
      "text/plain": [
       "<Axes: xlabel='genre', ylabel='Count'>"
      ]
     },
     "execution_count": 70,
     "metadata": {},
     "output_type": "execute_result"
    },
    {
     "data": {
      "image/png": "[encoded data removed]",
      "text/plain": [
       "<Figure size 640x480 with 1 Axes>"
      ]
     },
     "metadata": {},
     "output_type": "display_data"
    }
   ],
   "source": [
    "sns.histplot(data=df1[df1[\"cluster\"]==1],x=\"genre\")"
   ]
  },
  {
   "cell_type": "code",
   "execution_count": 71,
   "id": "d130f137-a5bf-4358-a838-799c7c01e1b9",
   "metadata": {},
   "outputs": [
    {
     "data": {
      "text/plain": [
       "<Axes: xlabel='genre', ylabel='Count'>"
      ]
     },
     "execution_count": 71,
     "metadata": {},
     "output_type": "execute_result"
    },
    {
     "data": {
      "image/png": "[encoded data removed]",
      "text/plain": [
       "<Figure size 640x480 with 1 Axes>"
      ]
     },
     "metadata": {},
     "output_type": "display_data"
    }
   ],
   "source": [
    "sns.histplot(data=df1[df1[\"cluster\"]==2],x=\"genre\")"
   ]
  },
  {
   "cell_type": "code",
   "execution_count": 72,
   "id": "5a43c8be-b96c-46af-843e-95d1097783ef",
   "metadata": {},
   "outputs": [
    {
     "data": {
      "text/plain": [
       "<Axes: xlabel='genre', ylabel='Count'>"
      ]
     },
     "execution_count": 72,
     "metadata": {},
     "output_type": "execute_result"
    },
    {
     "data": {
      "image/png": "[encoded data removed]",
      "text/plain": [
       "<Figure size 640x480 with 1 Axes>"
      ]
     },
     "metadata": {},
     "output_type": "display_data"
    }
   ],
   "source": [
    "sns.histplot(data=df1[df1[\"cluster\"]==3],x=\"genre\")"
   ]
  },
  {
   "cell_type": "code",
   "execution_count": 73,
   "id": "2d9d6a9c-b93f-4584-a617-03295f5eff6e",
   "metadata": {},
   "outputs": [
    {
     "data": {
      "text/plain": [
       "<Axes: xlabel='genre', ylabel='Count'>"
      ]
     },
     "execution_count": 73,
     "metadata": {},
     "output_type": "execute_result"
    },
    {
     "data": {
      "image/png": "[encoded data removed]",
      "text/plain": [
       "<Figure size 640x480 with 1 Axes>"
      ]
     },
     "metadata": {},
     "output_type": "display_data"
    }
   ],
   "source": [
    "sns.histplot(data=df1[df1[\"cluster\"]==4],x=\"genre\")"
   ]
  },
  {
   "cell_type": "markdown",
   "id": "4826c638",
   "metadata": {},
   "source": [
    "Thank You for making me learn a lot\n",
    "\n",
    "I did many supervised learning questions but not any of unsupervised learning.Here the evalualtion metrics are also quite different.Also usually I just import all the algorithms directly from sklearn,tf or torch but this time because of you guys I had to understand how they work.I also learnt that if I use unsupervised techniques before surpervised techniques in problems that are labeled I think we could get more insights in the problem.\n",
    "\n",
    "Thank You Guys, I enjoyed making this project."
   ]
  }
 ],
 "metadata": {
  "kernelspec": {
   "display_name": "Python [conda env:base] *",
   "language": "python",
   "name": "conda-base-py"
  },
  "language_info": {
   "codemirror_mode": {
    "name": "ipython",
    "version": 3
   },
   "file_extension": ".py",
   "mimetype": "text/x-python",
   "name": "python",
   "nbconvert_exporter": "python",
   "pygments_lexer": "ipython3",
   "version": "3.12.7"
  }
 },
 "nbformat": 4,
 "nbformat_minor": 5
}
